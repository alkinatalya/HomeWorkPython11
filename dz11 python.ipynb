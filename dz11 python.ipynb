{
 "cells": [
  {
   "cell_type": "markdown",
   "id": "24261a36",
   "metadata": {},
   "source": [
    "f(x) = -5*x**2 + 10*x - 150\n",
    "Определить корни\n",
    "\n",
    "1. Найти интервалы, на которых функция возрастает\n",
    "\n",
    "2. Найти интервалы, на которых функция убывает\n",
    "\n",
    "3. Построить график\n",
    "\n",
    "4. Вычислить вершину\n",
    "\n",
    "5. Определить промежутки, на котором f > 0\n",
    "\n",
    "6. Определить промежутки, на котором f < 0"
   ]
  },
  {
   "cell_type": "code",
   "execution_count": 33,
   "id": "7e6a0df8",
   "metadata": {},
   "outputs": [],
   "source": [
    "import math\n",
    "from sympy import*\n",
    "from sympy.plotting import plot"
   ]
  },
  {
   "cell_type": "code",
   "execution_count": 34,
   "id": "5e0243fc",
   "metadata": {},
   "outputs": [],
   "source": [
    "x = Symbol('x')\n",
    "fx = -5 * x ** 2 + 10 * x - 150"
   ]
  },
  {
   "cell_type": "code",
   "execution_count": 32,
   "id": "6bbcded0",
   "metadata": {},
   "outputs": [
    {
     "data": {
      "image/png": "[encoded data removed]",
      "text/plain": [
       "<Figure size 432x288 with 1 Axes>"
      ]
     },
     "metadata": {
      "needs_background": "light"
     },
     "output_type": "display_data"
    }
   ],
   "source": [
    "p = plot(fx)"
   ]
  },
  {
   "cell_type": "code",
   "execution_count": 22,
   "id": "090ecb3b",
   "metadata": {},
   "outputs": [
    {
     "data": {
      "text/latex": [
       "$\\displaystyle 10 - 10 x$"
      ],
      "text/plain": [
       "10 - 10*x"
      ]
     },
     "execution_count": 22,
     "metadata": {},
     "output_type": "execute_result"
    }
   ],
   "source": [
    "diff(fx)"
   ]
  },
  {
   "cell_type": "code",
   "execution_count": 23,
   "id": "56368790",
   "metadata": {},
   "outputs": [
    {
     "name": "stdout",
     "output_type": "stream",
     "text": [
      "1\n"
     ]
    }
   ],
   "source": [
    "apex = solve(diff(fx))[0]  #вершина \n",
    "print (apex)"
   ]
  },
  {
   "cell_type": "code",
   "execution_count": 24,
   "id": "e4349f50",
   "metadata": {},
   "outputs": [
    {
     "data": {
      "text/latex": [
       "$\\displaystyle -\\infty < x \\wedge x < 1$"
      ],
      "text/plain": [
       "(-oo < x) & (x < 1)"
      ]
     },
     "execution_count": 24,
     "metadata": {},
     "output_type": "execute_result"
    }
   ],
   "source": [
    "solve(diff(fx) > 0 )  #интервалы, на которых функция возрастает"
   ]
  },
  {
   "cell_type": "code",
   "execution_count": 25,
   "id": "fe1b6a1d",
   "metadata": {},
   "outputs": [
    {
     "data": {
      "text/latex": [
       "$\\displaystyle 1 < x \\wedge x < \\infty$"
      ],
      "text/plain": [
       "(1 < x) & (x < oo)"
      ]
     },
     "execution_count": 25,
     "metadata": {},
     "output_type": "execute_result"
    }
   ],
   "source": [
    "solve(diff(fx) < 0 )  #интервалы, на которых функция убывает"
   ]
  },
  {
   "cell_type": "code",
   "execution_count": 26,
   "id": "b3fd7da4",
   "metadata": {},
   "outputs": [
    {
     "data": {
      "text/latex": [
       "$\\displaystyle \\text{False}$"
      ],
      "text/plain": [
       "False"
      ]
     },
     "execution_count": 26,
     "metadata": {},
     "output_type": "execute_result"
    }
   ],
   "source": [
    "solve(fx > 0)"
   ]
  },
  {
   "cell_type": "code",
   "execution_count": 27,
   "id": "6622908d",
   "metadata": {},
   "outputs": [
    {
     "data": {
      "text/latex": [
       "$\\displaystyle -\\infty < x \\wedge x < \\infty$"
      ],
      "text/plain": [
       "(-oo < x) & (x < oo)"
      ]
     },
     "execution_count": 27,
     "metadata": {},
     "output_type": "execute_result"
    }
   ],
   "source": [
    "solve(fx < 0)"
   ]
  }
 ],
 "metadata": {
  "kernelspec": {
   "display_name": "Python 3",
   "language": "python",
   "name": "python3"
  },
  "language_info": {
   "codemirror_mode": {
    "name": "ipython",
    "version": 3
   },
   "file_extension": ".py",
   "mimetype": "text/x-python",
   "name": "python",
   "nbconvert_exporter": "python",
   "pygments_lexer": "ipython3",
   "version": "3.8.8"
  }
 },
 "nbformat": 4,
 "nbformat_minor": 5
}
